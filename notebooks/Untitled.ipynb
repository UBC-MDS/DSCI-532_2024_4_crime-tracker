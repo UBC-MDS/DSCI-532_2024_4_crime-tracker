{
 "cells": [
  {
   "cell_type": "code",
   "execution_count": 97,
   "id": "7e01411f-25c8-44e8-af8d-d6a2dd9f72d5",
   "metadata": {},
   "outputs": [
    {
     "name": "stdout",
     "output_type": "stream",
     "text": [
      "The autoreload extension is already loaded. To reload it, use:\n",
      "  %reload_ext autoreload\n"
     ]
    }
   ],
   "source": [
    "%load_ext autoreload\n",
    "%autoreload 2\n",
    "import os\n",
    "import sys\n",
    "import pandas as pd\n",
    "import numpy as np\n",
    "from pyproj import Proj, transform\n",
    "sys.path.append(\"../src\")\n",
    "from preprocessing import *"
   ]
  },
  {
   "cell_type": "code",
   "execution_count": 71,
   "id": "9c286440-261b-4252-8fbf-a6d971278271",
   "metadata": {},
   "outputs": [
    {
     "name": "stderr",
     "output_type": "stream",
     "text": [
      "C:\\thomas\\MDS\\block6\\DSCI-532_2024_4_crime-tracker\\notebooks\\../src\\preprocessing.py:43: FutureWarning: This function is deprecated. See: https://pyproj4.github.io/pyproj/stable/gotchas.html#upgrading-to-pyproj-2-from-pyproj-1\n",
      "  lon, lat = transform(utm_crs, latlon_crs, x_list, y_list)\n"
     ]
    },
    {
     "data": {
      "text/plain": [
       "array(['West End', 'Central Business District', 'Strathcona',\n",
       "       'Grandview-Woodland', 'Kensington-Cedar Cottage', 'Sunset',\n",
       "       'Marpole', 'Oakridge', 'Shaughnessy', 'Fairview', 'Mount Pleasant',\n",
       "       'Victoria-Fraserview', 'Kitsilano', 'West Point Grey',\n",
       "       'Hastings-Sunrise', 'Kerrisdale', 'Riley Park', 'Arbutus Ridge',\n",
       "       'Renfrew-Collingwood', 'Killarney', 'South Cambie',\n",
       "       'Dunbar-Southlands', 'Stanley Park', 'Musqueam', nan], dtype=object)"
      ]
     },
     "execution_count": 71,
     "metadata": {},
     "output_type": "execute_result"
    }
   ],
   "source": [
    "load_path = \"../data/raw\"\n",
    "df = pd.read_csv(os.path.join(save_path, 'crimedata_csv_2023.csv'))\n",
    "X_list, Y_list = convert_to_decimal_degrees(df[\"X\"], df[\"Y\"])\n",
    "df[\"X\"] = X_list\n",
    "df[\"Y\"] = Y_list\n",
    "df.NEIGHBOURHOOD.unique()"
   ]
  },
  {
   "cell_type": "code",
   "execution_count": 98,
   "id": "e537cf97-cfdd-4f58-96eb-29f3464c5369",
   "metadata": {},
   "outputs": [
    {
     "name": "stderr",
     "output_type": "stream",
     "text": [
      "C:\\thomas\\MDS\\block6\\DSCI-532_2024_4_crime-tracker\\notebooks\\../src\\preprocessing.py:51: FutureWarning: This function is deprecated. See: https://pyproj4.github.io/pyproj/stable/gotchas.html#upgrading-to-pyproj-2-from-pyproj-1\n",
      "  crime_df[\"TYPE\"] = crime_df[\"TYPE\"].replace(crime_type_mapping)\n"
     ]
    }
   ],
   "source": [
    "data_path = os.path.join(load_path, 'crimedata_csv_2023.csv')\n",
    "preprocessor(data_path, save_path='../data/processed/')"
   ]
  },
  {
   "cell_type": "code",
   "execution_count": 99,
   "id": "382979bb-ddcd-4ad5-a8d1-84efe229f422",
   "metadata": {},
   "outputs": [],
   "source": [
    "crime_df, hourly_df = load_data(data_path=\"../data/processed/\")"
   ]
  },
  {
   "cell_type": "code",
   "execution_count": 100,
   "id": "b0fb996e-58ee-41de-a349-8425b5a2c850",
   "metadata": {},
   "outputs": [
    {
     "data": {
      "text/plain": [
       "(5749, 11)"
      ]
     },
     "execution_count": 100,
     "metadata": {},
     "output_type": "execute_result"
    }
   ],
   "source": [
    "crime_df.shape"
   ]
  },
  {
   "cell_type": "code",
   "execution_count": null,
   "id": "840c8bd1-e62e-40b6-b452-4da59f36cdf3",
   "metadata": {},
   "outputs": [],
   "source": []
  }
 ],
 "metadata": {
  "kernelspec": {
   "display_name": "Python [conda env:crimetracker]",
   "language": "python",
   "name": "conda-env-crimetracker-py"
  },
  "language_info": {
   "codemirror_mode": {
    "name": "ipython",
    "version": 3
   },
   "file_extension": ".py",
   "mimetype": "text/x-python",
   "name": "python",
   "nbconvert_exporter": "python",
   "pygments_lexer": "ipython3",
   "version": "3.9.19"
  }
 },
 "nbformat": 4,
 "nbformat_minor": 5
}
